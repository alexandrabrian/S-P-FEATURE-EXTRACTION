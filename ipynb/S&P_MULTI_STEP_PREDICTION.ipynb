{
 "cells": [
  {
   "cell_type": "markdown",
   "metadata": {},
   "source": [
    "# Predicting more than one day into the future\n",
    "\n",
    "Without extra work, technicals only offer an opportunity to forecast tomorrow's closing price because TI information doesn't exist yet for days further into the future. I propose to impute future TI predictor information based, not on actual closing prices, but instead on previously forecasted values."
   ]
  },
  {
   "cell_type": "code",
   "execution_count": 5,
   "metadata": {},
   "outputs": [
    {
     "name": "stdout",
     "output_type": "stream",
     "text": [
      "/home/jovyan/Dropbox/Public/dsi-plus/s_p500\n"
     ]
    }
   ],
   "source": [
    "cd .."
   ]
  },
  {
   "cell_type": "code",
   "execution_count": 29,
   "metadata": {},
   "outputs": [],
   "source": [
    "import pickle\n",
    "from lib.utils import extract_technicals\n",
    "\n",
    "import warnings\n",
    "warnings.filterwarnings('ignore')"
   ]
  },
  {
   "cell_type": "code",
   "execution_count": 21,
   "metadata": {},
   "outputs": [],
   "source": [
    "with open(\"lib/tech_func_tools.pkl\", \"rb\") as file:\n",
    "    tech_funcs_dict, tech_funcs_params = pickle.load(file)\n",
    "    \n",
    "#load an example technicals df\n",
    "apple = pd.read_csv(\"data/sandp500/individual_stocks_5yr_TECHNICALS/AAPL_data.csv\")"
   ]
  },
  {
   "cell_type": "code",
   "execution_count": 68,
   "metadata": {
    "collapsed": true
   },
   "outputs": [],
   "source": [
    "def update_technicals(df, close_price, tech_funcs_dict, tech_funcs_params):\n",
    "    '''\n",
    "    Takes technicals df adds a new close for the next day, then updates the next day's \n",
    "    technicals based on that close price\n",
    "    '''\n",
    "    seed_columns = ['Open', 'High', 'Low', 'Close', 'Volume',]\n",
    "    seed_columns_df = df[seed_columns]\n",
    "    \n",
    "    last_row = seed_columns_df.iloc[-1, :].copy()\n",
    "    last_row[\"Close\"] = close_price\n",
    "    seed_columns_df = seed_columns_df.append(last_row, ignore_index = True)\n",
    "    \n",
    "    return extract_technicals(seed_columns_df, tech_funcs_dict, tech_funcs_params)"
   ]
  },
  {
   "cell_type": "code",
   "execution_count": 74,
   "metadata": {},
   "outputs": [
    {
     "data": {
      "text/html": [
       "<div>\n",
       "<table border=\"1\" class=\"dataframe\">\n",
       "  <thead>\n",
       "    <tr style=\"text-align: right;\">\n",
       "      <th></th>\n",
       "      <th>Open</th>\n",
       "      <th>High</th>\n",
       "      <th>Low</th>\n",
       "      <th>Close</th>\n",
       "      <th>Volume</th>\n",
       "      <th>Acc/Dist_ROC_1</th>\n",
       "      <th>ADX_14_50</th>\n",
       "      <th>ATR_14</th>\n",
       "      <th>BollingerB_5</th>\n",
       "      <th>Bollinger%b_5</th>\n",
       "      <th>...</th>\n",
       "      <th>RSI_6</th>\n",
       "      <th>RSI_12</th>\n",
       "      <th>STD_5</th>\n",
       "      <th>STD_20</th>\n",
       "      <th>SO%d_5</th>\n",
       "      <th>SO%d_20</th>\n",
       "      <th>SO%k</th>\n",
       "      <th>Trix_5</th>\n",
       "      <th>Trix_20</th>\n",
       "      <th>TSI_25_13</th>\n",
       "    </tr>\n",
       "  </thead>\n",
       "  <tbody>\n",
       "    <tr>\n",
       "      <th>1254</th>\n",
       "      <td>158.60</td>\n",
       "      <td>161.83</td>\n",
       "      <td>158.27</td>\n",
       "      <td>160.08</td>\n",
       "      <td>36205896.0</td>\n",
       "      <td>0.0</td>\n",
       "      <td>0.373994</td>\n",
       "      <td>2.986480</td>\n",
       "      <td>0.046474</td>\n",
       "      <td>0.838875</td>\n",
       "      <td>...</td>\n",
       "      <td>0.873646</td>\n",
       "      <td>0.784644</td>\n",
       "      <td>1.831057</td>\n",
       "      <td>3.823337</td>\n",
       "      <td>0.559125</td>\n",
       "      <td>0.539418</td>\n",
       "      <td>0.508427</td>\n",
       "      <td>0.005674</td>\n",
       "      <td>0.000839</td>\n",
       "      <td>0.276910</td>\n",
       "    </tr>\n",
       "    <tr>\n",
       "      <th>1255</th>\n",
       "      <td>159.26</td>\n",
       "      <td>161.27</td>\n",
       "      <td>159.11</td>\n",
       "      <td>161.06</td>\n",
       "      <td>26131530.0</td>\n",
       "      <td>0.0</td>\n",
       "      <td>0.363050</td>\n",
       "      <td>2.876283</td>\n",
       "      <td>0.059382</td>\n",
       "      <td>0.784742</td>\n",
       "      <td>...</td>\n",
       "      <td>0.873646</td>\n",
       "      <td>0.784644</td>\n",
       "      <td>2.351249</td>\n",
       "      <td>4.042700</td>\n",
       "      <td>0.673676</td>\n",
       "      <td>0.574024</td>\n",
       "      <td>0.902778</td>\n",
       "      <td>0.006351</td>\n",
       "      <td>0.001007</td>\n",
       "      <td>0.306047</td>\n",
       "    </tr>\n",
       "    <tr>\n",
       "      <th>1256</th>\n",
       "      <td>159.90</td>\n",
       "      <td>160.00</td>\n",
       "      <td>154.63</td>\n",
       "      <td>155.32</td>\n",
       "      <td>40804273.0</td>\n",
       "      <td>-0.0</td>\n",
       "      <td>0.352535</td>\n",
       "      <td>3.350112</td>\n",
       "      <td>0.061325</td>\n",
       "      <td>0.189794</td>\n",
       "      <td>...</td>\n",
       "      <td>0.407591</td>\n",
       "      <td>0.532323</td>\n",
       "      <td>2.427420</td>\n",
       "      <td>3.907066</td>\n",
       "      <td>0.491948</td>\n",
       "      <td>0.531592</td>\n",
       "      <td>0.128492</td>\n",
       "      <td>0.005146</td>\n",
       "      <td>0.001145</td>\n",
       "      <td>0.270984</td>\n",
       "    </tr>\n",
       "    <tr>\n",
       "      <th>1257</th>\n",
       "      <td>156.60</td>\n",
       "      <td>158.57</td>\n",
       "      <td>156.07</td>\n",
       "      <td>157.48</td>\n",
       "      <td>26257096.0</td>\n",
       "      <td>0.0</td>\n",
       "      <td>0.342433</td>\n",
       "      <td>3.336763</td>\n",
       "      <td>0.056815</td>\n",
       "      <td>0.381218</td>\n",
       "      <td>...</td>\n",
       "      <td>0.407591</td>\n",
       "      <td>0.532323</td>\n",
       "      <td>2.252021</td>\n",
       "      <td>3.902345</td>\n",
       "      <td>0.515965</td>\n",
       "      <td>0.534679</td>\n",
       "      <td>0.564000</td>\n",
       "      <td>0.004037</td>\n",
       "      <td>0.001270</td>\n",
       "      <td>0.256990</td>\n",
       "    </tr>\n",
       "    <tr>\n",
       "      <th>1258</th>\n",
       "      <td>156.60</td>\n",
       "      <td>158.57</td>\n",
       "      <td>156.07</td>\n",
       "      <td>4000.00</td>\n",
       "      <td>26257096.0</td>\n",
       "      <td>0.0</td>\n",
       "      <td>0.342433</td>\n",
       "      <td>3.225195</td>\n",
       "      <td>7.414767</td>\n",
       "      <td>0.947213</td>\n",
       "      <td>...</td>\n",
       "      <td>0.407591</td>\n",
       "      <td>0.532323</td>\n",
       "      <td>1717.979205</td>\n",
       "      <td>860.062586</td>\n",
       "      <td>512.867977</td>\n",
       "      <td>146.919186</td>\n",
       "      <td>1537.572000</td>\n",
       "      <td>0.917455</td>\n",
       "      <td>0.023703</td>\n",
       "      <td>0.973431</td>\n",
       "    </tr>\n",
       "  </tbody>\n",
       "</table>\n",
       "<p>5 rows × 47 columns</p>\n",
       "</div>"
      ],
      "text/plain": [
       "        Open    High     Low    Close      Volume  Acc/Dist_ROC_1  ADX_14_50  \\\n",
       "1254  158.60  161.83  158.27   160.08  36205896.0             0.0   0.373994   \n",
       "1255  159.26  161.27  159.11   161.06  26131530.0             0.0   0.363050   \n",
       "1256  159.90  160.00  154.63   155.32  40804273.0            -0.0   0.352535   \n",
       "1257  156.60  158.57  156.07   157.48  26257096.0             0.0   0.342433   \n",
       "1258  156.60  158.57  156.07  4000.00  26257096.0             0.0   0.342433   \n",
       "\n",
       "        ATR_14  BollingerB_5  Bollinger%b_5    ...         RSI_6    RSI_12  \\\n",
       "1254  2.986480      0.046474       0.838875    ...      0.873646  0.784644   \n",
       "1255  2.876283      0.059382       0.784742    ...      0.873646  0.784644   \n",
       "1256  3.350112      0.061325       0.189794    ...      0.407591  0.532323   \n",
       "1257  3.336763      0.056815       0.381218    ...      0.407591  0.532323   \n",
       "1258  3.225195      7.414767       0.947213    ...      0.407591  0.532323   \n",
       "\n",
       "            STD_5      STD_20      SO%d_5     SO%d_20         SO%k    Trix_5  \\\n",
       "1254     1.831057    3.823337    0.559125    0.539418     0.508427  0.005674   \n",
       "1255     2.351249    4.042700    0.673676    0.574024     0.902778  0.006351   \n",
       "1256     2.427420    3.907066    0.491948    0.531592     0.128492  0.005146   \n",
       "1257     2.252021    3.902345    0.515965    0.534679     0.564000  0.004037   \n",
       "1258  1717.979205  860.062586  512.867977  146.919186  1537.572000  0.917455   \n",
       "\n",
       "       Trix_20  TSI_25_13  \n",
       "1254  0.000839   0.276910  \n",
       "1255  0.001007   0.306047  \n",
       "1256  0.001145   0.270984  \n",
       "1257  0.001270   0.256990  \n",
       "1258  0.023703   0.973431  \n",
       "\n",
       "[5 rows x 47 columns]"
      ]
     },
     "execution_count": 74,
     "metadata": {},
     "output_type": "execute_result"
    }
   ],
   "source": [
    "update_technicals(apple, 4000, tech_funcs_dict, tech_funcs_params).tail()"
   ]
  },
  {
   "cell_type": "markdown",
   "metadata": {},
   "source": [
    "Update technicals has been added to `lib/utils.py`\n",
    "\n",
    "### Problem\n",
    "\n",
    "A lot of technicals require High, Low, and Volume values, on top of Close. Our model only predicts close. The `update_technicals` function just uses yesterday's values for the three non-predicted values. I'm not sure if that is a naive assumption or not. Yeah actually I think that's pretty bad.\n",
    "\n",
    "This seems like a coding-heavy endeavor, and I don't even think it will work very well. I'm gonna put it on hold for now, unless it sees important."
   ]
  },
  {
   "cell_type": "markdown",
   "metadata": {},
   "source": [
    "## Using `update_technicals` for forward prediction"
   ]
  },
  {
   "cell_type": "code",
   "execution_count": null,
   "metadata": {
    "collapsed": true
   },
   "outputs": [],
   "source": []
  }
 ],
 "metadata": {
  "kernelspec": {
   "display_name": "Python 3",
   "language": "python",
   "name": "python3"
  },
  "language_info": {
   "codemirror_mode": {
    "name": "ipython",
    "version": 3
   },
   "file_extension": ".py",
   "mimetype": "text/x-python",
   "name": "python",
   "nbconvert_exporter": "python",
   "pygments_lexer": "ipython3",
   "version": "3.6.2"
  }
 },
 "nbformat": 4,
 "nbformat_minor": 2
}
