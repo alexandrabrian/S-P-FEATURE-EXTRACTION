{
 "cells": [
  {
   "cell_type": "markdown",
   "metadata": {},
   "source": [
    "### open questions\n",
    "\n",
    "1. Evaluation\n",
    "    - Can we just accept data leakage? Is it acceptable to only be able to predict tomorrow’s closing in practice? They do in the paper it seems.\n",
    "2. Target\n",
    "    - Is close price a good target or should we try to predict trading signal (whatever the fuck that is)?\n",
    "3. Technicals\n",
    "    - There doesn’t seem to be much of a rhyme or reason to the technicals they chose. I’ll try to adapt the ones we have to match the paper as well as possible.\n",
    "\n",
    "\n",
    "## Technicals\n",
    "------\n",
    "\n",
    "### Good to go\n",
    "\n",
    "- 'MA'\n",
    "    - n: [5, 20, 90, 260]\n",
    "- 'STDDEV'\n",
    "    - n: [5, 20, 90, 260]\n",
    "- 'RSI'\n",
    "    - n: [6, 12]\n",
    "- MACD'\n",
    "    - n_fast: 12\n",
    "    - n_slow: 26\n",
    "\n",
    "- 'BBANDS'\n",
    "    - n: [5, 20, 90, 260]\n",
    "\n",
    "- 'MFI' money flow index ratio\n",
    "    - n: 14\n",
    "- 'Chaikin'\n",
    "    - None\n",
    "- 'EMA'\n",
    "    - n: [5, 20, 90, 260]\n",
    "- 'KST'\n",
    "    - r: (10, 10, 10, 15)\n",
    "    - n: (10, 15, 20, 30)\n",
    "    \n",
    "- 'TSI'\n",
    "    - r: 25\n",
    "    - s: 13\n",
    "\n",
    "- 'TRIX'\n",
    "    - n: [5, 20, 90, 260]\n",
    "\n",
    "- 'STOK'\n",
    "    - None\n",
    "\n",
    "- 'STO'\n",
    "    - n: [5, 20, 90, 260]\n",
    "\n",
    "- 'ROC'\n",
    "    - n: [5, 20, 90, 260]\n",
    "\n",
    "- 'PPSR' \n",
    "\n",
    "- 'OBV'\n",
    "    - n: [5, 20, 90, 260]\n",
    "\n",
    "- 'MassI'\n",
    "    - None\n",
    "    \n",
    "- 'MOM'\n",
    "    - n: 1 \n",
    "\n",
    "- 'COPP' \n",
    "\n",
    "- ACCDIST'\n",
    "    - n: 1\n",
    "\n",
    "- 'ADX'\n",
    "    - n: 14\n",
    "    - n_ADX: 50\n",
    "- 'ATR'\n",
    "    - n: 14"
   ]
  },
  {
   "cell_type": "code",
   "execution_count": null,
   "metadata": {
    "collapsed": true
   },
   "outputs": [],
   "source": [
    "grid = {\"MA\": [(5), (20), (90), (260)],\n",
    "        \"STDEV\": [(5), (20), (90), (260)],\n",
    "        \"RSI\": [(6), (12)],\n",
    "        \"MACD\": [(12, 26)],\n",
    "        \"BBANDS\": [(5), (20), (90), (260)],\n",
    "        \"MFI\": [(14)],\n",
    "        \"Chaikin\": [()],\n",
    "        \"EMA\": [(5), (20), (90), (260)],\n",
    "        \"KST\": [(10, 10, 10, 15, 10, 15, 20, 30)],\n",
    "        \"TSI\": [25, 13],\n",
    "        \"TRIX\": [(5), (20), (90), (260)],\n",
    "        \"STOK\": [()],\n",
    "        \"STO\": [(5), (20), (90), (260)],\n",
    "        \"ROC\": [(5), (20), (90), (260)],\n",
    "        \"PPSR\": [()],\n",
    "        \"OBV\": [(5), (20), (90), (260)],\n",
    "        \"MassI\": [()],\n",
    "        \"MOM\": [(1)],\n",
    "        \"COPP\": [()],\n",
    "        \"ADX\": [(14, 50)],\n",
    "        \"ATR\": [(14)],\n",
    "        \"FORCE\": [(2)]}"
   ]
  },
  {
   "cell_type": "markdown",
   "metadata": {},
   "source": [
    "### Potential implementation\n",
    "\n",
    "- differences on any or all of these columns\n",
    "\n",
    "### Missing end data\n",
    "\n",
    "'ULTOSC'\n",
    "\n",
    "'Vortex'\n",
    "\n",
    "'EOM' ease of movement\n",
    "\n",
    "'KELCH'\n",
    "\n",
    "'DONCH'\n",
    "\n",
    "'CCI' Commodity channel index"
   ]
  },
  {
   "cell_type": "code",
   "execution_count": 1,
   "metadata": {},
   "outputs": [
    {
     "name": "stdout",
     "output_type": "stream",
     "text": [
      "/home/jovyan/Dropbox/Public/dsi-plus/s_p500\n"
     ]
    }
   ],
   "source": [
    "cd .. "
   ]
  },
  {
   "cell_type": "code",
   "execution_count": 3,
   "metadata": {},
   "outputs": [],
   "source": [
    "#load technicals .py file\n",
    "from lib import ta\n",
    "\n",
    "import inspect\n",
    "import string\n",
    "import os"
   ]
  },
  {
   "cell_type": "code",
   "execution_count": 4,
   "metadata": {},
   "outputs": [
    {
     "data": {
      "text/plain": [
       "{'ACCDIST': <function lib.ta.ACCDIST>,\n",
       " 'ADX': <function lib.ta.ADX>,\n",
       " 'ATR': <function lib.ta.ATR>,\n",
       " 'BBANDS': <function lib.ta.BBANDS>,\n",
       " 'COPP': <function lib.ta.COPP>,\n",
       " 'Chaikin': <function lib.ta.Chaikin>,\n",
       " 'EMA': <function lib.ta.EMA>,\n",
       " 'FORCE': <function lib.ta.FORCE>,\n",
       " 'KST': <function lib.ta.KST>,\n",
       " 'MA': <function lib.ta.MA>,\n",
       " 'MACD': <function lib.ta.MACD>,\n",
       " 'MFI': <function lib.ta.MFI>,\n",
       " 'MOM': <function lib.ta.MOM>,\n",
       " 'MassI': <function lib.ta.MassI>,\n",
       " 'OBV': <function lib.ta.OBV>,\n",
       " 'PPSR': <function lib.ta.PPSR>,\n",
       " 'ROC': <function lib.ta.ROC>,\n",
       " 'RSI': <function lib.ta.RSI>,\n",
       " 'STDDEV': <function lib.ta.STDDEV>,\n",
       " 'STO': <function lib.ta.STO>,\n",
       " 'STOK': <function lib.ta.STOK>,\n",
       " 'TRIX': <function lib.ta.TRIX>,\n",
       " 'TSI': <function lib.ta.TSI>}"
      ]
     },
     "execution_count": 4,
     "metadata": {},
     "output_type": "execute_result"
    }
   ],
   "source": [
    "#hacky way to get a dictionary of all the imported technical functions\n",
    "tech_funcs = dict(filter(lambda x: x[0][0] in string.ascii_uppercase, inspect.getmembers(ta)))\n",
    "tech_funcs"
   ]
  },
  {
   "cell_type": "code",
   "execution_count": null,
   "metadata": {
    "collapsed": true
   },
   "outputs": [],
   "source": [
    "#serially apply every technical function in dictionary to an initial dataframe\n",
    "def extract_technicals(df, tech_funcs, args = None):\n",
    "    output = df\n",
    "    \n",
    "    for name, func in tech_funcs.items():\n",
    "        output = func(output)\n",
    "    \n",
    "    return output"
   ]
  },
  {
   "cell_type": "code",
   "execution_count": null,
   "metadata": {},
   "outputs": [],
   "source": [
    "#grab list of csv names in the directory\n",
    "individuals = os.listdir(path = \"data/sandp500/individual_stocks_5yr/\")\n",
    "\n",
    "for csv in individuals:\n",
    "    csv_path = \"data/sandp500/individual_stocks_5yr/\" + csv\n",
    "    df = pd.read_csv(csv_path)\n",
    "    try:\n",
    "        df_technicals = extract_technicals(df, tech_funcs)\n",
    "        df_technicals.to_csv(\"data/sandp500/individual_stocks_5yr_TECHNICALS/\" + csv)\n",
    "    except IndexError:\n",
    "        print(f\"Technical extraction failed on {csv}\")\n"
   ]
  },
  {
   "cell_type": "code",
   "execution_count": null,
   "metadata": {
    "collapsed": true
   },
   "outputs": [],
   "source": []
  }
 ],
 "metadata": {
  "kernelspec": {
   "display_name": "Python 3",
   "language": "python",
   "name": "python3"
  },
  "language_info": {
   "codemirror_mode": {
    "name": "ipython",
    "version": 3
   },
   "file_extension": ".py",
   "mimetype": "text/x-python",
   "name": "python",
   "nbconvert_exporter": "python",
   "pygments_lexer": "ipython3",
   "version": "3.6.2"
  }
 },
 "nbformat": 4,
 "nbformat_minor": 2
}
