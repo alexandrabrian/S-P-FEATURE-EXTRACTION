{
 "cells": [
  {
   "cell_type": "code",
   "execution_count": 1,
   "metadata": {},
   "outputs": [
    {
     "name": "stdout",
     "output_type": "stream",
     "text": [
      "/home/jovyan/Dropbox/Public/dsi-plus/s_p500\n"
     ]
    }
   ],
   "source": [
    "cd .."
   ]
  },
  {
   "cell_type": "code",
   "execution_count": 2,
   "metadata": {
    "collapsed": true
   },
   "outputs": [],
   "source": [
    "import numpy as np\n",
    "from sklearn.linear_model import Lasso\n",
    "import matplotlib.pyplot as plt\n",
    "from functools import partial\n",
    "%matplotlib inline"
   ]
  },
  {
   "cell_type": "markdown",
   "metadata": {
    "collapsed": true
   },
   "source": [
    "# Recursive function"
   ]
  },
  {
   "cell_type": "code",
   "execution_count": 246,
   "metadata": {
    "collapsed": true
   },
   "outputs": [],
   "source": [
    "def connect_line(arr, span_tuple):\n",
    "    '''\n",
    "    Compute lambda function for a line that connects two values from arr.\n",
    "    \n",
    "    Inputs:\n",
    "    - arr: numpy 1d-array of time-series values\n",
    "    - span_tuple: start and enpdpoints for line\n",
    "    '''\n",
    "    first, last = span_tuple\n",
    "    run = last - first\n",
    "    rise = arr[last] - arr[first]\n",
    "    slope = rise / run\n",
    "    intercept = arr[first] - first * slope\n",
    "    \n",
    "    return lambda x: intercept + slope * x\n",
    "\n",
    "\n",
    "def line_point_distance(arr, x1, x2, x0):\n",
    "    '''\n",
    "    Calculate the minimal orthogonal distance from a line connecting\n",
    "    (x1, arr[x1]) and (x2, arr[x2]) to a third point (x0, arr[x0])\n",
    "    \n",
    "    Distance formula from https://en.wikipedia.org/wiki/Distance_from_a_point_to_a_line.\n",
    "    \n",
    "    Inputs:\n",
    "    - arr: numpy 1d-array of time-series values\n",
    "    - x1: int, start x-value of line\n",
    "    - x2: int, end x-value of line\n",
    "    - x3: int, third point for distance to be calculated\n",
    "    '''\n",
    "    y1 = arr[x1]\n",
    "    y2 = arr[x2]\n",
    "    y0 = arr[x0]\n",
    "    \n",
    "    numerator = abs((y2 - y1)*x0 - (x2 - x1)*y0 + x2*y1 - y2*x1)\n",
    "    denominator = np.sqrt((y2 - y1) ** 2 + (x2 - x1) ** 2)\n",
    "    \n",
    "    return numerator / denominator\n",
    "\n",
    "\n",
    "def farthest_point(arr, x1, x2):\n",
    "    '''\n",
    "    Find the farthest point between two points that define a line on a time-series.\n",
    "    '''\n",
    "    xx = np.arange(len(arr))\n",
    "    \n",
    "    distances_partial = partial(line_point_distance, arr, x1, x2)\n",
    "    distances = distances_partial(xx)\n",
    "    mask = (xx > x1) & (xx < x2)\n",
    "    farthest_point_indx = np.argmax(distances[mask]) + x1 \n",
    "    max_distance = distances[farthest_point_indx]\n",
    "    \n",
    "    return farthest_point_indx, max_distance\n",
    "\n",
    "def flatten(nested):\n",
    "    '''\n",
    "    Flatten nested lists\n",
    "    '''\n",
    "    flattened = []\n",
    "    for item in nested:\n",
    "        if type(item) != list:\n",
    "            flattened.append(item)\n",
    "        else:\n",
    "            flattened += flatten(item)\n",
    "    return flattened\n",
    "\n",
    "\n",
    "def plr_recursive(arr, span_tuple, epsilon):\n",
    "    '''\n",
    "    Compute piece-wise linear regression on a time series.\n",
    "    \n",
    "    Inputs:\n",
    "    - arr: numpy 1d-array of time-series values\n",
    "    - span_tuple: start and endpoints\n",
    "    - epsilon: threshold for line-breaking\n",
    "    \n",
    "    Outputs:\n",
    "    - lines: list of lambda functions\n",
    "    - points: list of points that dicate when lambdas should be used\n",
    "    '''\n",
    "    first, last = span_tuple\n",
    "    farthest_indx, distance = farthest_point(arr, first, last)\n",
    "    \n",
    "    lines = []\n",
    "    points = []\n",
    "        \n",
    "    if distance < epsilon: #base case\n",
    "        line = connect_line(arr, span_tuple)\n",
    "        point = first\n",
    "        \n",
    "        return line, point\n",
    "    \n",
    "    else: #recursive case\n",
    "       \n",
    "        line_1, point_1 = plr_recursive(arr, (first, farthest_indx), epsilon)\n",
    "        line_2, point_2 = plr_recursive(arr, (farthest_indx, last), epsilon)\n",
    "        \n",
    "        lines.extend([line_1, line_2])\n",
    "        points.extend([point_1, point_2])\n",
    "        \n",
    "        #flatten out recursive nests\n",
    "        return flatten(lines), flatten(points) \n",
    "\n",
    "def PLR(arr, epsilon):\n",
    "    '''\n",
    "    Compute full PLR for a time series\n",
    "    '''\n",
    "    xx = np.arange(len(arr))\n",
    "    lines, points = plr_recursive(arr, (0, len(arr) -1), epsilon)\n",
    "    lines_points = sorted(zip(lines, points), key = lambda x: x[1])\n",
    "    lines, points = list(zip(*lines_points))\n",
    "    \n",
    "    #return lines, points\n",
    "    plr_values = np.piecewise(xx, [xx >= point for point in points], funcs)\n",
    "    \n",
    "    return plr_values"
   ]
  },
  {
   "cell_type": "code",
   "execution_count": 247,
   "metadata": {},
   "outputs": [
    {
     "data": {
      "text/plain": [
       "array([ 90,  90,  90, ..., 277, 278, 278])"
      ]
     },
     "execution_count": 247,
     "metadata": {},
     "output_type": "execute_result"
    }
   ],
   "source": [
    "PLR(closes, 30)"
   ]
  },
  {
   "cell_type": "code",
   "execution_count": 243,
   "metadata": {},
   "outputs": [
    {
     "data": {
      "text/plain": [
       "array([ 90,  89,  89, ..., 157, 157, 157])"
      ]
     },
     "execution_count": 243,
     "metadata": {},
     "output_type": "execute_result"
    }
   ],
   "source": [
    "lines, points = plr_recursive(closes, (0, len(closes) - 1), 30)\n",
    "np.piecewise(xx, [xx >= point for point in points], lines)"
   ]
  },
  {
   "cell_type": "code",
   "execution_count": 221,
   "metadata": {},
   "outputs": [
    {
     "data": {
      "text/plain": [
       "[<matplotlib.lines.Line2D at 0x7fac03dbaba8>]"
      ]
     },
     "execution_count": 221,
     "metadata": {},
     "output_type": "execute_result"
    },
    {
     "data": {
      "image/png": "[encoded data removed]",
      "text/plain": [
       "<matplotlib.figure.Figure at 0x7fac03b7d0b8>"
      ]
     },
     "metadata": {},
     "output_type": "display_data"
    }
   ],
   "source": [
    "xx = np.arange(len(apple))\n",
    "plt.figure(figsize=(12,6))\n",
    "plt.plot(xx, apple[\"Close\"])\n",
    "plt.plot(xx, PLR(closes, 14), linewidth = 4, c= \"red\")\n",
    "#plt.plot(xx, line_2(xx), linewidth = 4)"
   ]
  },
  {
   "cell_type": "code",
   "execution_count": null,
   "metadata": {
    "collapsed": true
   },
   "outputs": [],
   "source": []
  }
 ],
 "metadata": {
  "kernelspec": {
   "display_name": "Python 3",
   "language": "python",
   "name": "python3"
  },
  "language_info": {
   "codemirror_mode": {
    "name": "ipython",
    "version": 3
   },
   "file_extension": ".py",
   "mimetype": "text/x-python",
   "name": "python",
   "nbconvert_exporter": "python",
   "pygments_lexer": "ipython3",
   "version": "3.6.2"
  }
 },
 "nbformat": 4,
 "nbformat_minor": 2
}
